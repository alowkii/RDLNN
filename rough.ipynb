{
 "cells": [
  {
   "cell_type": "code",
   "execution_count": null,
   "metadata": {},
   "outputs": [
    {
     "ename": "IndexError",
     "evalue": "boolean index did not match indexed array along axis 0; size of axis is 8331 but size of corresponding boolean axis is 10013",
     "output_type": "error",
     "traceback": [
      "\u001b[31m---------------------------------------------------------------------------\u001b[39m",
      "\u001b[31mIndexError\u001b[39m                                Traceback (most recent call last)",
      "\u001b[36mCell\u001b[39m\u001b[36m \u001b[39m\u001b[32mIn[7]\u001b[39m\u001b[32m, line 8\u001b[39m\n\u001b[32m      5\u001b[39m labels = data[\u001b[33m'\u001b[39m\u001b[33mlabels\u001b[39m\u001b[33m'\u001b[39m]\n\u001b[32m      7\u001b[39m \u001b[38;5;66;03m# Check feature distributions by class\u001b[39;00m\n\u001b[32m----> \u001b[39m\u001b[32m8\u001b[39m authentic = \u001b[43mfeatures\u001b[49m\u001b[43m[\u001b[49m\u001b[43mlabels\u001b[49m\u001b[43m \u001b[49m\u001b[43m==\u001b[49m\u001b[43m \u001b[49m\u001b[32;43m0\u001b[39;49m\u001b[43m]\u001b[49m\n\u001b[32m      9\u001b[39m forged = features[labels == \u001b[32m1\u001b[39m]\n",
      "\u001b[31mIndexError\u001b[39m: boolean index did not match indexed array along axis 0; size of axis is 8331 but size of corresponding boolean axis is 10013"
     ]
    }
   ],
   "source": [
    "import matplotlib.pyplot as plt\n",
    "import numpy as np\n",
    "data = np.load(\"features/my_features.npz\")\n",
    "features = data['features']\n",
    "labels = data['labels']\n",
    "\n",
    "# Print shapes to understand the mismatch\n",
    "print(f\"Features shape: {features.shape}\")\n",
    "print(f\"Labels shape: {labels.shape}\")\n",
    "\n",
    "# Option 1: Trim labels to match features\n",
    "if len(labels) > len(features):\n",
    "    labels = labels[:len(features)]\n",
    "    \n",
    "# Option 2: Alternatively, trim features to match labels\n",
    "# if len(features) > len(labels):\n",
    "#     features = features[:len(labels)]\n",
    "\n",
    "# Now filter after making sure dimensions match\n",
    "authentic = features[labels == 0]\n",
    "forged = features[labels == 1]\n",
    "\n",
    "# Plot the mean values of each feature for both classes\n",
    "plt.figure(figsize=(12, 6))\n",
    "plt.plot(np.mean(authentic, axis=0), label='Authentic')\n",
    "plt.plot(np.mean(forged, axis=0), label='Forged')\n",
    "plt.legend()\n",
    "plt.title('Mean Feature Values by Class')\n",
    "plt.savefig('feature_distribution.png')"
   ]
  },
  {
   "cell_type": "code",
   "execution_count": null,
   "metadata": {},
   "outputs": [],
   "source": [
    "# Plot the mean values of each feature for both classes\n",
    "plt.figure(figsize=(12, 6))\n",
    "plt.plot(np.mean(authentic, axis=0), label='Authentic')\n",
    "plt.plot(np.mean(forged, axis=0), label='Forged')\n",
    "plt.legend()\n",
    "plt.title('Mean Feature Values by Class')\n",
    "plt.savefig('feature_distribution.png')"
   ]
  }
 ],
 "metadata": {
  "kernelspec": {
   "display_name": "Env",
   "language": "python",
   "name": "python3"
  },
  "language_info": {
   "codemirror_mode": {
    "name": "ipython",
    "version": 3
   },
   "file_extension": ".py",
   "mimetype": "text/x-python",
   "name": "python",
   "nbconvert_exporter": "python",
   "pygments_lexer": "ipython3",
   "version": "3.13.1"
  }
 },
 "nbformat": 4,
 "nbformat_minor": 2
}
